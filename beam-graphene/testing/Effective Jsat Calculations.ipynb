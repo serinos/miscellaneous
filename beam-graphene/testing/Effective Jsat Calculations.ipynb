{
 "cells": [
  {
   "cell_type": "markdown",
   "metadata": {},
   "source": [
    "# Effective Jsat Calculations - PoC only\n",
    "\n",
    "$J_{sat,eff} := \\frac{E_{sat}}{\\pi w^2} \\text{ where } E_{sat}:= E$ value such that loss due to saturable absorption becomes half of its initial value\n",
    "\n",
    "Let us use binary search to find it for some configurations and see how this new parameter behaves"
   ]
  },
  {
   "cell_type": "code",
   "execution_count": 1,
   "metadata": {},
   "outputs": [],
   "source": [
    "from beam import *"
   ]
  },
  {
   "cell_type": "code",
   "execution_count": 3,
   "metadata": {},
   "outputs": [
    {
     "name": "stdout",
     "output_type": "stream",
     "text": [
      "Cursor at: 0.007377111469395459 uJ\n",
      "Cursor at: 0.011065667204093188 uJ\n",
      "Cursor at: 0.009221389336744323 uJ\n",
      "Cursor at: 0.008299250403069891 uJ\n",
      "Cursor at: 0.007838180936232675 uJ\n",
      "Cursor at: 0.007607646202814067 uJ\n",
      "E_sat found! : 0.007622269913554192\n",
      "J_sateff ---> 3.881990189832907e-06 uJ/um2 for E_p=0.0029508445877581835 uJ\n",
      "Graphene Layer configuration: [5, 0], a_s=0.00575\n",
      "Cursor at: 0.007377111469395459 uJ\n",
      "Cursor at: 0.011065667204093188 uJ\n",
      "Cursor at: 0.009221389336744323 uJ\n",
      "Cursor at: 0.008299250403069891 uJ\n",
      "Cursor at: 0.007838180936232675 uJ\n",
      "Cursor at: 0.007607646202814067 uJ\n",
      "E_sat found! : 0.007622269913554192\n",
      "J_sateff ---> 3.881990189832907e-06 uJ/um2 for E_p=0.0029508445877581835 uJ\n",
      "Graphene Layer configuration: [5, 5], a_s=0.00575\n",
      "Cursor at: 0.007377111469395459 uJ\n",
      "Cursor at: 0.011065667204093188 uJ\n",
      "Cursor at: 0.009221389336744323 uJ\n",
      "Cursor at: 0.008299250403069891 uJ\n",
      "Cursor at: 0.007838180936232675 uJ\n",
      "Cursor at: 0.007607646202814067 uJ\n",
      "E_sat found! : 0.007622269913554192\n",
      "J_sateff ---> 3.881990189832907e-06 uJ/um2 for E_p=0.0029508445877581835 uJ\n",
      "Graphene Layer configuration: [5, 10], a_s=0.00575\n",
      "Cursor at: 0.007377111469395459 uJ\n",
      "Cursor at: 0.011065667204093188 uJ\n",
      "Cursor at: 0.009221389336744323 uJ\n",
      "Cursor at: 0.008299250403069891 uJ\n",
      "Cursor at: 0.007838180936232675 uJ\n",
      "E_sat found! : 0.0078532500192523\n",
      "J_sateff ---> 3.9996273916816825e-06 uJ/um2 for E_p=0.0029508445877581835 uJ\n",
      "Graphene Layer configuration: [5, 15], a_s=0.00575\n"
     ]
    }
   ],
   "source": [
    "Einput = np.pi*(25**2)*0.00000015*10  # Einput will be 10-fold of [Jsat*Area]\n",
    "ee = beam_initialize(res=33, threshold=10**-10, w=25, Ep=Einput)  # Resolution: about 30nm for unit length\n",
    "Ein = integrate_for_energy(ee)\n",
    "graphene_config = [[5,0],[5,5],[5,10],[5,15]]\n",
    "\n",
    "results = []\n",
    "for i in graphene_config:\n",
    "    mm = mask_initialize(beam=ee, shape='lines',width=i[0],thickness=i[1], a0=0)  #a0 zeroed out\n",
    "    # Initial ΔΕ/Ε calculation:\n",
    "    ss = mask_apply(beam=ee,mask=mm)\n",
    "    initEfrac_over2 = ((Ein-integrate_for_energy(ss))/Ein)/2\n",
    "    # Searching:\n",
    "    cursor = 5*Ein  # Change cursor&bound as you please\n",
    "    bound = 5*Ein  # Will search around [0, 10*Ein]\n",
    "    while True:  # Binary search, might get caught up in an infinite loop if boundaries are not sane\n",
    "        # Binary search between E = [Ein,0], if ΔΕ/Ε approx (initEfrac/2), append result to results[]\n",
    "        # Percent difference threshold for bingo: <1%\n",
    "        ee_tmp = beam_initialize(res=33, threshold=10**-10, w=25, Ep=cursor)\n",
    "        mm = mask_initialize(beam=ee_tmp, shape='lines',width=i[0],thickness=i[1],a0=0)\n",
    "        ss = mask_apply(beam=ee_tmp,mask=mm)\n",
    "        Eval = integrate_for_energy(ee_tmp)\n",
    "        tmp_dE_E = (Eval - integrate_for_energy(ss))/Eval\n",
    "        if (abs(tmp_dE_E-initEfrac_over2)/initEfrac_over2)<0.01:  # Toggle 0.01 to change threshold\n",
    "            results.append(Eval/(np.pi*(25**2)))\n",
    "            print(f\"E_sat found! : {Eval}\")\n",
    "            print(f\"J_sateff ---> {Eval/(np.pi*(25**2))} uJ/um2 for E_p={Ein} uJ\")\n",
    "            print(f\"Graphene Layer configuration: {i}, a_s={mm.aS}\")\n",
    "            break\n",
    "        elif tmp_dE_E > initEfrac_over2:\n",
    "            bound /= 2\n",
    "            cursor += bound\n",
    "        else:\n",
    "            bound /= 2\n",
    "            cursor -= bound\n",
    "        print(f\"Cursor at: {cursor} uJ\")\n"
   ]
  },
  {
   "cell_type": "markdown",
   "metadata": {},
   "source": [
    "Would $J_{sat,eff}$ be useful?"
   ]
  },
  {
   "cell_type": "code",
   "execution_count": null,
   "metadata": {},
   "outputs": [],
   "source": []
  }
 ],
 "metadata": {
  "kernelspec": {
   "display_name": "Python 3",
   "language": "python",
   "name": "python3"
  },
  "language_info": {
   "codemirror_mode": {
    "name": "ipython",
    "version": 3
   },
   "file_extension": ".py",
   "mimetype": "text/x-python",
   "name": "python",
   "nbconvert_exporter": "python",
   "pygments_lexer": "ipython3",
   "version": "3.8.2"
  }
 },
 "nbformat": 4,
 "nbformat_minor": 4
}
