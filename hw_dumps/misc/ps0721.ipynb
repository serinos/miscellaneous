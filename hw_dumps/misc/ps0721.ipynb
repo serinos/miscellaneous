{
 "cells": [
  {
   "cell_type": "markdown",
   "metadata": {},
   "source": [
    "# Problem 21\n",
    "### (Discretizing eigenfunction problems into eigenvalue ones. Solving spatial part of wave eqn w/ Dirichlet, Neumann, Periodic BCs)"
   ]
  },
  {
   "cell_type": "code",
   "execution_count": 1,
   "metadata": {},
   "outputs": [],
   "source": [
    "import numpy as np\n",
    "import matplotlib.pyplot as plt\n",
    "import scipy as sp\n",
    "import scipy.sparse.linalg as splin\n",
    "from time import time"
   ]
  },
  {
   "cell_type": "markdown",
   "metadata": {},
   "source": [
    "Will discretize $\\frac{d^2X}{dx^2}=\\lambda X$\n",
    "\n",
    "### Part C) Calculate the first 8 normal modes and their eigenvalues for Dirichlet BCs, end points x=0,L.\n",
    "\n",
    "Let us work in a normalized dimension, BCs: X(0)=0, X(1)=0."
   ]
  },
  {
   "cell_type": "code",
   "execution_count": 2,
   "metadata": {},
   "outputs": [],
   "source": [
    "# Will use the following function in Part C,D,E to generate matrix representations of d2X/dx2\n",
    "def deriv_matrix(dim, bc='Dirichlet'):\n",
    "    # dim x dim matrix for discretizing\n",
    "    d2X_dx2 = np.diag(np.ones(dim-1),k=1)+np.diag(np.ones(dim-1),k=-1)+np.diag(-2*np.ones(dim),k=0)\n",
    "    if bc=='Neumann':\n",
    "        d2X_dx2[0,0] = -1\n",
    "        d2X_dx2[dim-1,dim-1] = -1\n",
    "    elif bc=='Neumann-Nonsym':\n",
    "        d2X_dx2[0,1] = 2\n",
    "        d2X_dx2[dim-1,dim-2] = 2\n",
    "    elif bc=='Periodic':\n",
    "        d2X_dx2[0,dim-1] = 1\n",
    "        d2X_dx2[dim-1,0] = 1\n",
    "    else:\n",
    "        pass\n",
    "    return d2X_dx2"
   ]
  },
  {
   "cell_type": "markdown",
   "metadata": {},
   "source": [
    "*Will plot the modes in MATLAB (for the rest of the problem as well), using [V,D]=eigs(A,8,'sm') is much easier than sorting the entries of eigenvectors here in Python. See the solutions PDF for those.*\n",
    "\n",
    "Let us see how accurate the eigenvalues are for some dim values. Note that we factored out the $h^2$ factor of the matrix and need to rescale the eigenvalues by it."
   ]
  },
  {
   "cell_type": "code",
   "execution_count": 3,
   "metadata": {},
   "outputs": [
    {
     "name": "stdout",
     "output_type": "stream",
     "text": [
      "Dim: 72; The ground is Mode 1\n",
      "Eigval of Mode 1: -9.868081240433431\t Error: -0.015432844053591289%\n",
      "Eigval of Mode 2: -39.45405154694796\t Error: -0.061719944435624695%\n",
      "Eigval of Mode 3: -88.70312451336521\t Error: -0.1388270170241113%\n",
      "Eigval of Mode 4: -157.52410219390453\t Error: -0.2466969594813521%\n",
      "Eigval of Mode 5: -245.78954398079543\t Error: -0.38524990782147484%\n",
      "Eigval of Mode 6: -353.33600259494943\t Error: -0.5543833156322004%\n",
      "Eigval of Mode 7: -479.964326752684\t Error: -0.7539720557556993%\n",
      "Eigval of Mode 8: -625.4400299480758\t Error: -0.9838685443152709%\n",
      "Average of above: -0.3925188235649156%\n"
     ]
    }
   ],
   "source": [
    "def numerical_checker(sorted_eigs,analytical_fn,ctr=[0,8],is_verbose=False):\n",
    "    # Let us compare the eigenvalues with the analytical solutions:\n",
    "    ave_err_pc = 0\n",
    "    for i in range(ctr[0],ctr[1]):\n",
    "        lambda_eff = sorted_eigs[i]\n",
    "        actual = analytical_fn(i)\n",
    "        error_pc = 100*(lambda_eff - actual)/actual\n",
    "        if is_verbose is True:\n",
    "            print(f\"Eigval of Mode {i+1}: {lambda_eff}\\t Error: {error_pc}%\")\n",
    "        ave_err_pc += error_pc\n",
    "    ave_err_pc /= (ctr[1]-ctr[0])\n",
    "    print(f\"Average of above: {ave_err_pc}%\")\n",
    "\n",
    "\n",
    "dim = 72  # Toggle this\n",
    "x_array = np.linspace(0,1,dim+2)\n",
    "h_sqr = (x_array[1]-x_array[0])**2\n",
    "dirichlet_eig = lambda n: -1*((n+1)*np.pi)**2\n",
    "\n",
    "A = deriv_matrix(dim,bc='Dirichlet')\n",
    "sorted_eigs = sorted(np.real(sp.linalg.eig(A)[0])/h_sqr, reverse=True)\n",
    "print(f\"Dim: {dim}; The ground is Mode 1\")        \n",
    "\n",
    "numerical_checker(sorted_eigs,dirichlet_eig, is_verbose=True)"
   ]
  },
  {
   "cell_type": "markdown",
   "metadata": {},
   "source": [
    "The eigenvalues found for dim=8 are as follows: [-9.769795432682805, -37.90080021472556, -81.0, -133.86899521795723, -190.1310047820425, -242.9999999999997, -286.0991997852739, -314.23020456731655]"
   ]
  },
  {
   "cell_type": "markdown",
   "metadata": {},
   "source": [
    "For dim=8, we get an error of -1.0% for the eigval of the first mode and -50% for the eigval of the eighth mode. We need a 72x72 dimensional matrix representation to have at most 1% absolute error in terms of eigenvalues. The error (in absolute) is higher for eigenvalues of larger absolute value compared to smaller ones for any dim value, the absolute error of any mode decreases as we take dim larger.\n",
    "\n",
    "Now, let us compare the speed of various eigenvalue finders that could suit our matrix representation.\n",
    "We could try eigsh and eigs of scipy.sparse, eigvals and eigvalsh of numpy"
   ]
  },
  {
   "cell_type": "code",
   "execution_count": 4,
   "metadata": {},
   "outputs": [
    {
     "name": "stdout",
     "output_type": "stream",
     "text": [
      "\n",
      "Numpy eigvalsh-----\n",
      "Time elapsed: 0.015633821487426758\n",
      "Average of above: -0.004251532102156799%\n",
      "\n",
      "Numpy eigvals-----\n",
      "Time elapsed: 0.8870153427124023\n",
      "Average of above: -0.004251532535967718%\n",
      "\n",
      "Scipy Sparse eigsh-----\n",
      "Time elapsed: 0.6017584800720215\n",
      "Average of above: -0.004251532340128643%\n",
      "\n",
      "Scipy Sparse eigs-----\n",
      "Time elapsed: 1.4004955291748047\n",
      "Average of above: -0.004251532419138482%\n"
     ]
    }
   ],
   "source": [
    "def err_print_range(ctr,dim,bc='Dirichlet',func=dirichlet_eig,is_verbose=False,is_complete=False):\n",
    "    # Unfortunately, the functions require some hands-on tweaking to be compatible with numerical_checker, hence the repetitiveness\n",
    "    x_array = np.linspace(0,1,dim+2)\n",
    "    h_sqr = (x_array[1]-x_array[0])**2\n",
    "    A = deriv_matrix(dim,bc)\n",
    "    A_sparse = sp.sparse.dia_matrix(A)\n",
    "    \n",
    "    print(\"\\nNumpy eigvalsh-----\")\n",
    "    time2 = time()\n",
    "    eigvals = np.linalg.eigvalsh(A)\n",
    "    time2 = time()-time2\n",
    "    print(f\"Time elapsed: {time2}\")\n",
    "    sorted_eigs = sorted(np.real(eigvals)/h_sqr, reverse=True)\n",
    "    numerical_checker(sorted_eigs,func,ctr,is_verbose)\n",
    "    \n",
    "    if is_complete is True:\n",
    "        print(\"\\nNumpy eigvals-----\")\n",
    "        time2 = time()\n",
    "        eigvals = np.linalg.eigvals(A)\n",
    "        time2 = time()-time2\n",
    "        print(f\"Time elapsed: {time2}\")\n",
    "        sorted_eigs = sorted(np.real(eigvals)/h_sqr, reverse=True)\n",
    "        numerical_checker(sorted_eigs,func,ctr,is_verbose)\n",
    "    \n",
    "        print(\"\\nScipy Sparse eigsh-----\")\n",
    "        time2 = time()\n",
    "        eigvals = splin.eigsh(A_sparse, k=dim-1,return_eigenvectors=False)  # Cannot use k=dim, biggest eigval is thus unavailable\n",
    "        time2 = time()-time2\n",
    "        print(f\"Time elapsed: {time2}\")\n",
    "        sorted_eigs = [0]+sorted(np.real(eigvals)/h_sqr, reverse=True)  # Need to fix the off-by-one error\n",
    "        numerical_checker(sorted_eigs,func,ctr,is_verbose)\n",
    "    \n",
    "        print(\"\\nScipy Sparse eigs-----\")\n",
    "        time2 = time()\n",
    "        eigvals = splin.eigs(A_sparse, k=dim-2,return_eigenvectors=False)  # Cannot use k=dim nor dim-1\n",
    "        time2 = time()-time2\n",
    "        print(f\"Time elapsed: {time2}\")\n",
    "        sorted_eigs = [0,0]+sorted(np.real(eigvals)/h_sqr, reverse=True)  # Need to fix the off-by-two error\n",
    "        numerical_checker(sorted_eigs,func,ctr,is_verbose)\n",
    "    else:\n",
    "        pass\n",
    "\n",
    "err_print_range([2,8],800,is_complete=True)"
   ]
  },
  {
   "cell_type": "markdown",
   "metadata": {},
   "source": [
    "We can see that Numpy's eigvalsh is both the most accurate and by far the fastest of the four methods, it was necessary to go up to dim=800 just to see a non-zero time value for eigvalsh"
   ]
  },
  {
   "cell_type": "markdown",
   "metadata": {},
   "source": [
    "### Part D) Calculate the first 9 normal modes and their eigenvalues for Neumann BCs.\n",
    "\n",
    "We will compare the two matrix representations for Neumann BCs, one is symmetric and the other is non-sym."
   ]
  },
  {
   "cell_type": "code",
   "execution_count": 5,
   "metadata": {},
   "outputs": [
    {
     "name": "stdout",
     "output_type": "stream",
     "text": [
      "Ground mode is Mode 1\n",
      "Symmetric:\n",
      "\n",
      "Numpy eigvalsh-----\n",
      "Time elapsed: 0.0\n",
      "Eigval of Mode 2: -10.116586449227615\t Error: 2.5024513455777044%\n",
      "Eigval of Mode 3: -40.45074675389067\t Error: 2.4629385080163817%\n",
      "Eigval of Mode 4: -90.95570783745596\t Error: 2.397110856863295%\n",
      "Eigval of Mode 5: -161.55359471059998\t Error: 2.305008985953186%\n",
      "Eigval of Mode 6: -252.13555054880786\t Error: 2.1866896796708004%\n",
      "Eigval of Mode 7: -362.5619045416855\t Error: 2.042225866066268%\n",
      "Eigval of Mode 8: -492.6623872552393\t Error: 1.871706556654352%\n",
      "Eigval of Mode 9: -642.2363931749946\t Error: 1.6752367729316895%\n",
      "Average of above: 2.18042107146671%\n",
      "\n",
      "Non-Symmetric:\n",
      "\n",
      "Numpy eigvalsh-----\n",
      "Time elapsed: 0.0\n",
      "Eigval of Mode 2: -10.641083786161337\t Error: 7.81672044511558%\n",
      "Eigval of Mode 3: -42.53663987301814\t Error: 7.746567502551458%\n",
      "Eigval of Mode 4: -95.60471474834098\t Error: 7.63092066766639%\n",
      "Eigval of Mode 5: -169.71226349200754\t Error: 7.471546347690706%\n",
      "Eigval of Mode 6: -264.6797419531299\t Error: 7.270658963358597%\n",
      "Eigval of Mode 7: -380.28633699898455\t Error: 7.03072718818351%\n",
      "Eigval of Mode 8: -516.2750937319934\t Error: 6.754293024458059%\n",
      "Eigval of Mode 9: -672.3574030836398\t Error: 6.44382486112937%\n",
      "Average of above: 7.270657375019209%\n"
     ]
    }
   ],
   "source": [
    "neumann_eig = lambda n: -1*(n*np.pi)**2\n",
    "print(\"Ground mode is Mode 1\")\n",
    "\n",
    "print(\"Symmetric:\")\n",
    "err_print_range([1,9],80,bc='Neumann',func=neumann_eig,is_verbose=True)\n",
    "print(\"\\nNon-Symmetric:\")\n",
    "err_print_range([1,9],80,bc='Neumann-Nonsym',func=neumann_eig,is_verbose=True)"
   ]
  },
  {
   "cell_type": "markdown",
   "metadata": {},
   "source": [
    "Clearly, the symmetric matrix representation yields better results for a given dim value, and the eigenvalue of the ground mode is garbage for the non-symmetric one whereas the symmetric matrix yields 4.66e-12.\n",
    "\n",
    "### Part E) Calculate and plot the first 8 normal modes and their eigenvalues for periodic BCs\n",
    "\n",
    "The first mode corresponds to constant rotation, and has eigval 0. Numerically, the first 8 distinct eigenvalues are as follows:"
   ]
  },
  {
   "cell_type": "code",
   "execution_count": 6,
   "metadata": {},
   "outputs": [
    {
     "name": "stdout",
     "output_type": "stream",
     "text": [
      "Eigval of Mode 1:\t 1.5630628302106082e-12\n",
      "Eigval of Mode 2,3:\t -38.47784034309278\n",
      "Eigval of Mode 4,5:\t -153.6741326914891\n",
      "Eigval of Mode 6,7:\t -344.8786535961928\n",
      "Eigval of Mode 8,9:\t -610.912563603889\n",
      "Eigval of Mode 10,11:\t -950.1356751941204\n",
      "Eigval of Mode 12,13:\t -1360.4565650807924\n",
      "Eigval of Mode 14,15:\t -1839.3454685322204\n"
     ]
    }
   ],
   "source": [
    "dim = 80\n",
    "x_array = np.linspace(0,1,dim)\n",
    "h_sqr = (x_array[1]-x_array[0])**2\n",
    "\n",
    "A = deriv_matrix(dim,bc='Periodic')\n",
    "sorted_eigs = sorted(np.real(np.linalg.eigvalsh(A))/h_sqr, reverse=True)\n",
    "print(f\"Eigval of Mode 1:\\t {sorted_eigs[0]}\")\n",
    "for i in range(1,15,2):\n",
    "    print(f\"Eigval of Mode {i+1},{i+2}:\\t {sorted_eigs[i]}\")"
   ]
  },
  {
   "cell_type": "markdown",
   "metadata": {},
   "source": [
    "*Reminder: See the solutions pdf for the plots of modes*"
   ]
  },
  {
   "cell_type": "code",
   "execution_count": null,
   "metadata": {},
   "outputs": [],
   "source": []
  }
 ],
 "metadata": {
  "kernelspec": {
   "display_name": "Python 3",
   "language": "python",
   "name": "python3"
  },
  "language_info": {
   "codemirror_mode": {
    "name": "ipython",
    "version": 3
   },
   "file_extension": ".py",
   "mimetype": "text/x-python",
   "name": "python",
   "nbconvert_exporter": "python",
   "pygments_lexer": "ipython3",
   "version": "3.8.3"
  }
 },
 "nbformat": 4,
 "nbformat_minor": 4
}
