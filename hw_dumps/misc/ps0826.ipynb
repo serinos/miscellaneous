{
 "cells": [
  {
   "cell_type": "markdown",
   "metadata": {},
   "source": [
    "## Problem 26\n",
    "\n",
    "### Part A"
   ]
  },
  {
   "cell_type": "code",
   "execution_count": 1,
   "metadata": {},
   "outputs": [],
   "source": [
    "import sympy as sym\n",
    "import numpy as np\n",
    "import matplotlib.pyplot as plt"
   ]
  },
  {
   "cell_type": "markdown",
   "metadata": {},
   "source": [
    "Let us work out the absolute stability region formulae for RK2 and RK4 applied to $\\frac{dy}{dt} = \\lambda y $"
   ]
  },
  {
   "cell_type": "code",
   "execution_count": 2,
   "metadata": {},
   "outputs": [],
   "source": [
    "y_n_1, y_n, lam, h, z = sym.symbols(\"y_{n+1}, y_n, lambda, h, z\")\n",
    "# RK2 stability condition:\n",
    "RK2 = (y_n + h*lam*(y_n+(h/sym.S(2))*lam*y_n))/y_n\n",
    "RK2 = RK2.expand()\n",
    "RK2 = (RK2.subs({h*lam:z}))\n",
    "# RK4 stability condition:\n",
    "f1,f2,f3,f4 = sym.symbols(\"f_1,f_2,f_3,f_4\")\n",
    "RK4 = (y_n + (h/sym.S(6))*(f1+sym.S(2)*f2+sym.S(2)*f3+f4))/y_n\n",
    "RK4 = RK4.subs({f4:lam*(y_n+h*f3)})\n",
    "RK4 = RK4.subs({f3:lam*(y_n+(h/sym.S(2))*f2)})\n",
    "RK4 = RK4.subs({f2:lam*(y_n+(h/sym.S(2))*f1)})\n",
    "RK4 = RK4.subs({f1:lam*y_n})  # When not written separately like this, subs are not conducted sequentially\n",
    "RK4 = RK4.expand()\n",
    "RK4 = RK4.subs({h*lam:z})"
   ]
  },
  {
   "cell_type": "code",
   "execution_count": 3,
   "metadata": {},
   "outputs": [
    {
     "data": {
      "text/plain": [
       "'RK2 condition, want its abs val <1:'"
      ]
     },
     "metadata": {},
     "output_type": "display_data"
    },
    {
     "data": {
      "text/latex": [
       "$\\displaystyle \\frac{z^{2}}{2} + z + 1$"
      ],
      "text/plain": [
       "z**2/2 + z + 1"
      ]
     },
     "metadata": {},
     "output_type": "display_data"
    },
    {
     "data": {
      "text/plain": [
       "'RK4 condition, want its abs val <1:'"
      ]
     },
     "metadata": {},
     "output_type": "display_data"
    },
    {
     "data": {
      "text/latex": [
       "$\\displaystyle \\frac{z^{4}}{24} + \\frac{z^{3}}{6} + \\frac{z^{2}}{2} + z + 1$"
      ],
      "text/plain": [
       "z**4/24 + z**3/6 + z**2/2 + z + 1"
      ]
     },
     "metadata": {},
     "output_type": "display_data"
    }
   ],
   "source": [
    "display(\"RK2 condition, want its abs val <1:\", RK2)\n",
    "display(\"RK4 condition, want its abs val <1:\", RK4)"
   ]
  },
  {
   "cell_type": "markdown",
   "metadata": {},
   "source": [
    "These results suggest a pattern for stability conditions for higher order RK methods, though skipping this idea for now. Let us plot the resulting regions on the complex plane:"
   ]
  },
  {
   "cell_type": "code",
   "execution_count": 4,
   "metadata": {},
   "outputs": [],
   "source": [
    "# Numpyfying the conditions:\n",
    "x,y = sym.symbols(\"x,y\")\n",
    "RK2_check = RK2.subs({z:(x+sym.I*y)})\n",
    "RK2_check = sym.lambdify((x,y),RK2_check,\"numpy\")\n",
    "RK4_check = (RK4.subs({z:(x+sym.I*y)}))\n",
    "RK4_check = sym.lambdify((x,y),RK4_check,\"numpy\")\n",
    "def RK_cond(x,y,method=2):  # If condition satisfied for z=x+iy, returns 1, otherwise 0.\n",
    "    if method==2:\n",
    "        if np.abs(RK2_check(x,y)) > 1:\n",
    "            return 0\n",
    "        else:\n",
    "            return 1\n",
    "    else: #RK4\n",
    "        if np.abs(RK4_check(x,y)) > 1:\n",
    "            return 0\n",
    "        else:\n",
    "            return 1\n",
    "\n",
    "# Plotting subroutine:\n",
    "def RK_plot(method=2, res=100):\n",
    "    interval = [-3,3]\n",
    "    interval_ev = np.linspace(interval[0],interval[1],res)\n",
    "    plane = []\n",
    "    for i in interval_ev[::-1]:\n",
    "        for j in interval_ev:\n",
    "            plane.append(RK_cond(j,i,method))\n",
    "    plane = np.array(plane)\n",
    "    plane = plane.reshape(res,res)\n",
    "    plt.imshow(plane, extent=[interval[0],interval[1],interval[0],interval[1]])\n",
    "    plt.grid()\n",
    "    plt.xlabel(\"Re\")\n",
    "    plt.ylabel(\"Im\")"
   ]
  },
  {
   "cell_type": "code",
   "execution_count": 5,
   "metadata": {},
   "outputs": [
    {
     "data": {
      "image/png": "[encoded data removed]",
      "text/plain": [
       "<Figure size 432x288 with 1 Axes>"
      ]
     },
     "metadata": {
      "needs_background": "light"
     },
     "output_type": "display_data"
    }
   ],
   "source": [
    "# Region of stability for RK2 in yellow:\n",
    "RK_plot(method=2)"
   ]
  },
  {
   "cell_type": "code",
   "execution_count": 6,
   "metadata": {},
   "outputs": [
    {
     "data": {
      "image/png": "[encoded data removed]",
      "text/plain": [
       "<Figure size 432x288 with 1 Axes>"
      ]
     },
     "metadata": {
      "needs_background": "light"
     },
     "output_type": "display_data"
    }
   ],
   "source": [
    "# Region of stability for RK4 in yellow:\n",
    "RK_plot(method=4)"
   ]
  },
  {
   "cell_type": "markdown",
   "metadata": {},
   "source": [
    "$\\bullet$ Now we can use the method of lines on the advection eqn and compare the eigenvalues of the discretization to the regions of stability of RK2&4\n",
    "\n",
    "$$\\frac{d\\overrightarrow{y}}{dt}= v A\\overrightarrow{y}$$\n",
    "\n",
    "Matrix $A$ is some discretization matrix for the first spacial derivative, as an example we can take it to be formed by central finite differencing of $\\mathcal{O}(h^2)$ accuracy for Dirichlet BCs. Then $A$ is a tridiagonal matrix that has 0 at its diagonal entries, v and -v in its super- and supra-diagonals, respectively. Then the eigenvalues are $2ivcos(\\frac{j\\pi}{N+1})$ for j from 1 to N, and they are all on the imaginary line. This implies that for this example, except at the origin, RK2 is unstable everywhere, and RK4 is unstable almost everywhere, except the points on the imaginary line in the neighborhood of 2i and -2i on the above figure. The method of lines is not a good method for advections because of this unstability"
   ]
  },
  {
   "cell_type": "code",
   "execution_count": null,
   "metadata": {},
   "outputs": [],
   "source": []
  }
 ],
 "metadata": {
  "kernelspec": {
   "display_name": "Python 3",
   "language": "python",
   "name": "python3"
  },
  "language_info": {
   "codemirror_mode": {
    "name": "ipython",
    "version": 3
   },
   "file_extension": ".py",
   "mimetype": "text/x-python",
   "name": "python",
   "nbconvert_exporter": "python",
   "pygments_lexer": "ipython3",
   "version": "3.8.3"
  }
 },
 "nbformat": 4,
 "nbformat_minor": 4
}
